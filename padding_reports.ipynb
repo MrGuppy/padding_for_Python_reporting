{
 "cells": [
  {
   "cell_type": "code",
   "execution_count": null,
   "id": "59941ac7",
   "metadata": {},
   "outputs": [],
   "source": []
  },
  {
   "cell_type": "code",
   "execution_count": 4,
   "id": "1c27379f",
   "metadata": {},
   "outputs": [],
   "source": [
    "# arbitrary data \n",
    "names = [\"Missy\", \"Albert\", \"John\", \"Elwood\", \"Clementine\"]\n",
    "heights = [1.78, 1.54, 2.0, 1.7, 0.30] # in metres\n",
    "weights = [89, 76, 98, 30, 3] # in kilograms"
   ]
  },
  {
   "cell_type": "code",
   "execution_count": 5,
   "id": "7a064776",
   "metadata": {},
   "outputs": [],
   "source": [
    "# define lists for bmi, bmi prime index, bmi category\n",
    "bmis = []\n",
    "bmis_prime = []\n",
    "bmi_cat = []\n",
    "\n",
    "# define list to store the report\n",
    "report = []\n",
    "\n",
    "# the buffer is the padding + name. set to size 12\n",
    "buffer=12\n",
    "\n",
    "# loop through the heights, names & weights\n",
    "for i, (name, height, weight) in enumerate(zip(names, heights, weights)):\n",
    "    \n",
    "    # append BMI value -> weight/height**2\n",
    "    bmis.append(weight/height**2)\n",
    "\n",
    "    # append BMI prime index -> bmi/25\n",
    "    bmis_prime.append(bmis[i]/25)\n",
    "\n",
    "    # categorise BMI value based on index i\n",
    "    if bmis[i] <= 18.4:\n",
    "        bmi_cat.append('underweight')\n",
    "        \n",
    "    elif bmis[i] >= 18.5 and bmis[i] <= 24.9:\n",
    "        bmi_cat.append('normal')\n",
    "        \n",
    "    elif bmis[i] >= 24.5:\n",
    "        bmi_cat.append('overweight')\n",
    "        \n",
    "    # define padding for the report. The padding is the length of blank spaces after the name\n",
    "    padding = buffer-len(name)\n",
    "    \n",
    "    # append the report to list\n",
    "    report.append((('## '+name+' '*padding+'has a BMI of', round(bmis[i],2), 'which is '+bmi_cat[i]+'.'),\n",
    "                   ('The BMI prime index is',round(bmis_prime[i],2))))"
   ]
  },
  {
   "cell_type": "code",
   "execution_count": 7,
   "id": "e7697042",
   "metadata": {},
   "outputs": [
    {
     "name": "stdout",
     "output_type": "stream",
     "text": [
      "## Missy       has a BMI of 28.09 which is overweight.\n",
      "## Albert      has a BMI of 32.05 which is overweight.\n",
      "## John        has a BMI of 24.5 which is normal.\n",
      "## Elwood      has a BMI of 10.38 which is underweight.\n",
      "## Clementine  has a BMI of 33.33 which is overweight.\n"
     ]
    },
    {
     "data": {
      "text/plain": [
       "[None, None, None, None, None]"
      ]
     },
     "execution_count": 7,
     "metadata": {},
     "output_type": "execute_result"
    }
   ],
   "source": [
    "# use list comprehension to print the report with padding\n",
    "[print(*i[0]) for i in report]"
   ]
  },
  {
   "cell_type": "code",
   "execution_count": null,
   "id": "f13e41d3",
   "metadata": {},
   "outputs": [],
   "source": []
  }
 ],
 "metadata": {
  "kernelspec": {
   "display_name": "Python 3 (ipykernel)",
   "language": "python",
   "name": "python3"
  },
  "language_info": {
   "codemirror_mode": {
    "name": "ipython",
    "version": 3
   },
   "file_extension": ".py",
   "mimetype": "text/x-python",
   "name": "python",
   "nbconvert_exporter": "python",
   "pygments_lexer": "ipython3",
   "version": "3.9.4"
  }
 },
 "nbformat": 4,
 "nbformat_minor": 5
}
